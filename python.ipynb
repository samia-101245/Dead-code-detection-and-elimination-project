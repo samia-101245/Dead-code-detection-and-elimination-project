{
  "nbformat": 4,
  "nbformat_minor": 0,
  "metadata": {
    "colab": {
      "provenance": [],
      "include_colab_link": true
    },
    "kernelspec": {
      "name": "python3",
      "display_name": "Python 3"
    },
    "language_info": {
      "name": "python"
    }
  },
  "cells": [
    {
      "cell_type": "markdown",
      "metadata": {
        "id": "view-in-github",
        "colab_type": "text"
      },
      "source": [
        "<a href=\"https://colab.research.google.com/github/samia-101245/Dead-code-detection-and-elimination-project/blob/main/python.ipynb\" target=\"_parent\"><img src=\"https://colab.research.google.com/assets/colab-badge.svg\" alt=\"Open In Colab\"/></a>"
      ]
    },
    {
      "cell_type": "markdown",
      "source": [
        "# **Python**\n",
        "**List of Topics**\n",
        "\n",
        "---\n",
        "\n",
        "\n",
        "1. Python Variable\n",
        "2. Python Type Conversion\n",
        "3. Python Input Output\n",
        "4. Arithmetic Operators in Python\n",
        "5. Comparison Operators\n",
        "6. Logical Operators\n",
        "7. Python if…else Statement\n",
        "8. Python if…elif…else Statement\n",
        "9. Python Nested if Statements\n",
        "10. Python for Loop\n",
        "11. Python Nested for Loop\n",
        "12. Python Mathematics\n",
        "13. Python List\n",
        "14. Python Tuple\n",
        "15. List Tuple Conversion\n",
        "16. Python String\n",
        "17. Python Set\n",
        "18. Python Dictionary\n",
        "19. Python Function"
      ],
      "metadata": {
        "id": "oOQ2sQH1NZVR"
      }
    },
    {
      "cell_type": "markdown",
      "source": [
        "**Python Variables**"
      ],
      "metadata": {
        "id": "gAnAcJwKNk_c"
      }
    },
    {
      "cell_type": "code",
      "execution_count": 1,
      "metadata": {
        "id": "rPYAII42L_Qe",
        "colab": {
          "base_uri": "https://localhost:8080/"
        },
        "outputId": "4bea4bd7-a04d-45fe-b0e7-1a868f89161f"
      },
      "outputs": [
        {
          "output_type": "stream",
          "name": "stdout",
          "text": [
            "Name: John\n",
            "Age: 30\n",
            "Height: 6.1\n",
            "Is Student: False\n"
          ]
        }
      ],
      "source": [
        "# Variable Declaration and Assignment\n",
        "name = \"John\"\n",
        "age = 30\n",
        "height = 6.1\n",
        "is_student = False\n",
        "\n",
        "# Outputting variable values\n",
        "print(\"Name:\", name)\n",
        "print(\"Age:\", age)\n",
        "print(\"Height:\", height)\n",
        "print(\"Is Student:\", is_student)"
      ]
    },
    {
      "cell_type": "code",
      "source": [
        "# Variable Reassignment\n",
        "name = \"Alice\"\n",
        "age = 25\n",
        "\n",
        "# Updated Output\n",
        "print(\"Updated Name:\", name)\n",
        "print(\"\\nUpdated Age:\", age)"
      ],
      "metadata": {
        "id": "KvSSTcTtSQ3t",
        "colab": {
          "base_uri": "https://localhost:8080/"
        },
        "outputId": "ded21d67-6d0b-4311-89e9-390fd51a7cde"
      },
      "execution_count": 2,
      "outputs": [
        {
          "output_type": "stream",
          "name": "stdout",
          "text": [
            "Updated Name: Alice\n",
            "\n",
            "Updated Age: 25\n"
          ]
        }
      ]
    },
    {
      "cell_type": "code",
      "source": [
        "# Variable Types\n",
        "print(\"Variable Types:\")\n",
        "print(\"Type of name:\", type(name))\n",
        "print(\"Type of age:\", type(age))\n",
        "print(\"Type of height:\", type(height))\n",
        "print(\"Type of is_student:\", type(is_student))"
      ],
      "metadata": {
        "id": "PHC9wBYTNTgW",
        "colab": {
          "base_uri": "https://localhost:8080/"
        },
        "outputId": "8507050f-bb3c-4378-8b1c-03b6d0de9f32"
      },
      "execution_count": 3,
      "outputs": [
        {
          "output_type": "stream",
          "name": "stdout",
          "text": [
            "Variable Types:\n",
            "Type of name: <class 'str'>\n",
            "Type of age: <class 'int'>\n",
            "Type of height: <class 'float'>\n",
            "Type of is_student: <class 'bool'>\n"
          ]
        }
      ]
    },
    {
      "cell_type": "code",
      "source": [
        "# Variable Operations\n",
        "a = 10\n",
        "b = 5\n",
        "sum_result = a + b\n",
        "difference_result = a - b\n",
        "product_result = a * b\n",
        "division_result = a / b\n",
        "\n",
        "# Outputting Results\n",
        "print(\"Operations:\")\n",
        "print(\"Sum:\", sum_result)\n",
        "print(\"Difference:\", difference_result)\n",
        "print(\"Product:\", product_result)\n",
        "print(\"Division:\", division_result)"
      ],
      "metadata": {
        "id": "6qoQwazqNV2x",
        "colab": {
          "base_uri": "https://localhost:8080/"
        },
        "outputId": "fc92f4be-03d5-4972-a3fb-3776bb73d90a"
      },
      "execution_count": 4,
      "outputs": [
        {
          "output_type": "stream",
          "name": "stdout",
          "text": [
            "Operations:\n",
            "Sum: 15\n",
            "Difference: 5\n",
            "Product: 50\n",
            "Division: 2.0\n"
          ]
        }
      ]
    },
    {
      "cell_type": "markdown",
      "source": [
        "**Python Type Conversion**"
      ],
      "metadata": {
        "id": "N9jvAaa7Ns1V"
      }
    },
    {
      "cell_type": "code",
      "source": [
        "num_string = '12'\n",
        "num_integer = 23\n",
        "\n",
        "print(\"Data type of num_string before Type Casting:\",type(num_string))\n",
        "\n",
        "num_string = int(num_string)\n",
        "\n",
        "print(\"Data type of num_string after Type Casting:\",type(num_string))\n",
        "\n",
        "num_sum = num_integer + num_string\n",
        "\n",
        "print(\"Sum:\",num_sum)\n",
        "print(\"Data type of num_sum:\",type(num_sum))"
      ],
      "metadata": {
        "id": "-o9PzSRyN28D",
        "colab": {
          "base_uri": "https://localhost:8080/"
        },
        "outputId": "27034a92-f079-4c41-ae52-44630bd0d659"
      },
      "execution_count": 5,
      "outputs": [
        {
          "output_type": "stream",
          "name": "stdout",
          "text": [
            "Data type of num_string before Type Casting: <class 'str'>\n",
            "Data type of num_string after Type Casting: <class 'int'>\n",
            "Sum: 35\n",
            "Data type of num_sum: <class 'int'>\n"
          ]
        }
      ]
    },
    {
      "cell_type": "code",
      "source": [
        "num1 = int(2.3)\n",
        "print(num1)\n",
        "\n",
        "num2 = int(-2.8)\n",
        "print(num2)\n",
        "\n",
        "num3 = float(5)\n",
        "print(num3)\n",
        "\n",
        "num4 = complex('3+5j')\n",
        "print(num4)"
      ],
      "metadata": {
        "id": "YF_-cmPCV4Ux",
        "colab": {
          "base_uri": "https://localhost:8080/"
        },
        "outputId": "d2877700-47b7-410a-85c1-e579dc6cd0b6"
      },
      "execution_count": 6,
      "outputs": [
        {
          "output_type": "stream",
          "name": "stdout",
          "text": [
            "2\n",
            "-2\n",
            "5.0\n",
            "(3+5j)\n"
          ]
        }
      ]
    },
    {
      "cell_type": "markdown",
      "source": [
        "**Python Input and Output**"
      ],
      "metadata": {
        "id": "dHEWwl9QN86r"
      }
    },
    {
      "cell_type": "code",
      "source": [
        "# Input\n",
        "name = input(\"Enter your name: \")\n",
        "age = int(input(\"Enter your age: \"))\n",
        "\n",
        "year_of_birth = 2024 - age\n",
        "\n",
        "# Output\n",
        "print(\"Hello, \" + name + \"!\")\n",
        "print(\"You are\", age, \"years old.\")\n",
        "print(\"You were born in the year\", year_of_birth)"
      ],
      "metadata": {
        "id": "TYaFRCgzOeXb",
        "colab": {
          "base_uri": "https://localhost:8080/"
        },
        "outputId": "6a96d486-e1ae-486f-e939-c5ca8c0c93be"
      },
      "execution_count": 8,
      "outputs": [
        {
          "output_type": "stream",
          "name": "stdout",
          "text": [
            "Enter your name: tanha\n",
            "Enter your age: 25\n",
            "Hello, tanha!\n",
            "You are 25 years old.\n",
            "You were born in the year 1999\n"
          ]
        }
      ]
    },
    {
      "cell_type": "markdown",
      "source": [
        "**Arithmetic Operators in Python**"
      ],
      "metadata": {
        "id": "CtK35lFiOmqQ"
      }
    },
    {
      "cell_type": "code",
      "source": [
        "a = 7\n",
        "b = 2\n",
        "\n",
        "# addition\n",
        "print ('Sum: ', a + b)\n",
        "\n",
        "# subtraction\n",
        "print ('Subtraction: ', a - b)\n",
        "\n",
        "# multiplication\n",
        "print ('Multiplication: ', a * b)\n",
        "\n",
        "# division\n",
        "print ('Division: ', a / b)\n",
        "\n",
        "# floor division\n",
        "print ('Floor Division: ', a // b)\n",
        "\n",
        "# modulo\n",
        "print ('Modulo: ', a % b)\n",
        "\n",
        "# a to the power b\n",
        "print ('Power: ', a ** b)\n",
        "\n",
        "# assignment operator\n",
        "a += b      # a = a + b\n",
        "print (a)"
      ],
      "metadata": {
        "id": "TDnyIgi1PBX6",
        "colab": {
          "base_uri": "https://localhost:8080/"
        },
        "outputId": "9376983b-48f2-4e98-b67f-2f62f839abbb"
      },
      "execution_count": 9,
      "outputs": [
        {
          "output_type": "stream",
          "name": "stdout",
          "text": [
            "Sum:  9\n",
            "Subtraction:  5\n",
            "Multiplication:  14\n",
            "Division:  3.5\n",
            "Floor Division:  3\n",
            "Modulo:  1\n",
            "Power:  49\n",
            "9\n"
          ]
        }
      ]
    },
    {
      "cell_type": "markdown",
      "source": [
        "**Comparison Operators**"
      ],
      "metadata": {
        "id": "6Mn6bkr3PF7B"
      }
    },
    {
      "cell_type": "code",
      "source": [
        "a = 5\n",
        "b = 2\n",
        "\n",
        "# equal to operator\n",
        "print('(a == b)--> ', a == b)\n",
        "\n",
        "# not equal to operator\n",
        "print('(a != b)--> ', a != b)\n",
        "\n",
        "# greater than operator\n",
        "print('(a > b)--> ', a > b)\n",
        "\n",
        "# less than operator\n",
        "print('(a < b)--> ', a < b)\n",
        "\n",
        "# greater than or equal to operator\n",
        "print('(a >= b)--> ', a >= b)\n",
        "\n",
        "# less than or equal to operator\n",
        "print('(a <= b)--> ', a <= b)"
      ],
      "metadata": {
        "id": "aPIglsPjPFc2",
        "colab": {
          "base_uri": "https://localhost:8080/"
        },
        "outputId": "36991e4e-6ac7-4bea-9b2d-a21de00ed9e0"
      },
      "execution_count": 10,
      "outputs": [
        {
          "output_type": "stream",
          "name": "stdout",
          "text": [
            "(a == b)-->  False\n",
            "(a != b)-->  True\n",
            "(a > b)-->  True\n",
            "(a < b)-->  False\n",
            "(a >= b)-->  True\n",
            "(a <= b)-->  False\n"
          ]
        }
      ]
    },
    {
      "cell_type": "markdown",
      "source": [
        "**Logical Operators**"
      ],
      "metadata": {
        "id": "X4nLSdEFP4vB"
      }
    },
    {
      "cell_type": "code",
      "source": [
        "# logical AND\n",
        "print(True and True)\n",
        "print(True and False)\n",
        "\n",
        "# logical OR\n",
        "print(True or False)\n",
        "\n",
        "# logical NOT\n",
        "print(not True)"
      ],
      "metadata": {
        "id": "srxdLpQJQScw",
        "colab": {
          "base_uri": "https://localhost:8080/"
        },
        "outputId": "f140255a-ceba-4cd5-d975-57d2fa2ff98d"
      },
      "execution_count": 11,
      "outputs": [
        {
          "output_type": "stream",
          "name": "stdout",
          "text": [
            "True\n",
            "False\n",
            "True\n",
            "False\n"
          ]
        }
      ]
    },
    {
      "cell_type": "markdown",
      "source": [
        "**Python if…else Statement**"
      ],
      "metadata": {
        "id": "N2xP0onVQduW"
      }
    },
    {
      "cell_type": "code",
      "source": [
        "number = 10\n",
        "\n",
        "if number > 0:\n",
        "    print('Positive number')\n",
        "\n",
        "else:\n",
        "    print('Negative number')\n",
        "\n",
        "print('This statement always executes')"
      ],
      "metadata": {
        "id": "Jn39DpzJRHgy",
        "colab": {
          "base_uri": "https://localhost:8080/"
        },
        "outputId": "d02b7d05-3cd1-442c-f388-94bfcc157e94"
      },
      "execution_count": 12,
      "outputs": [
        {
          "output_type": "stream",
          "name": "stdout",
          "text": [
            "Positive number\n",
            "This statement always executes\n"
          ]
        }
      ]
    },
    {
      "cell_type": "markdown",
      "source": [
        "**Python if…elif…else Statement**"
      ],
      "metadata": {
        "id": "7F99GZReRKLQ"
      }
    },
    {
      "cell_type": "code",
      "source": [
        "number = 0\n",
        "\n",
        "if number > 0:\n",
        "    print('Positive number')\n",
        "\n",
        "elif number <0:\n",
        "    print('Negative number')\n",
        "\n",
        "else:\n",
        "    print('Zero')\n",
        "\n",
        "print('This statement is always executed')"
      ],
      "metadata": {
        "id": "GHqE0kqqRNep",
        "colab": {
          "base_uri": "https://localhost:8080/"
        },
        "outputId": "74de7dfd-4f7d-4041-b05d-979ddd89ddac"
      },
      "execution_count": 13,
      "outputs": [
        {
          "output_type": "stream",
          "name": "stdout",
          "text": [
            "Zero\n",
            "This statement is always executed\n"
          ]
        }
      ]
    },
    {
      "cell_type": "markdown",
      "source": [
        "**Python Nested if Statements**"
      ],
      "metadata": {
        "id": "nENeaAzORR0H"
      }
    },
    {
      "cell_type": "code",
      "source": [
        "number = 5\n",
        "\n",
        "# outer if statement\n",
        "if number >= 0:\n",
        "    # inner if statement\n",
        "    if number == 0:\n",
        "      print('Number is 0')\n",
        "\n",
        "    # inner else statement\n",
        "    else:\n",
        "        print('Number is positive')\n",
        "\n",
        "# outer else statement\n",
        "else:\n",
        "    print('Number is negative')"
      ],
      "metadata": {
        "id": "TSQUcrdlRUnq",
        "colab": {
          "base_uri": "https://localhost:8080/"
        },
        "outputId": "1b3248ad-ed14-4d36-c0c9-84068fe07dae"
      },
      "execution_count": 14,
      "outputs": [
        {
          "output_type": "stream",
          "name": "stdout",
          "text": [
            "Number is positive\n"
          ]
        }
      ]
    },
    {
      "cell_type": "markdown",
      "source": [
        "**Python for Loop**"
      ],
      "metadata": {
        "id": "V58XZIxjRYv_"
      }
    },
    {
      "cell_type": "code",
      "source": [
        "# iterate from i = 0 to i = 3\n",
        "for i in range(4):\n",
        "    print(i)"
      ],
      "metadata": {
        "id": "gB6UsaO4RxZ5",
        "colab": {
          "base_uri": "https://localhost:8080/"
        },
        "outputId": "46711d0f-0c78-46b8-bec3-6c568e883371"
      },
      "execution_count": 15,
      "outputs": [
        {
          "output_type": "stream",
          "name": "stdout",
          "text": [
            "0\n",
            "1\n",
            "2\n",
            "3\n"
          ]
        }
      ]
    },
    {
      "cell_type": "code",
      "source": [
        "# Define a list of numbers\n",
        "numbers = [1, 2, 3, 4, 5]\n",
        "\n",
        "for num in numbers:\n",
        "    # Print each number multiplied by 2\n",
        "    print(num * 2)"
      ],
      "metadata": {
        "id": "JAgUXeCQR4B8",
        "colab": {
          "base_uri": "https://localhost:8080/"
        },
        "outputId": "aa1a1116-d16d-4a43-dee9-312382050ac9"
      },
      "execution_count": 16,
      "outputs": [
        {
          "output_type": "stream",
          "name": "stdout",
          "text": [
            "2\n",
            "4\n",
            "6\n",
            "8\n",
            "10\n"
          ]
        }
      ]
    },
    {
      "cell_type": "code",
      "source": [
        "languages = ['Swift', 'Python', 'Go']\n",
        "\n",
        "for i in languages:\n",
        "    print(i)"
      ],
      "metadata": {
        "id": "OdGX7BuzTKLI",
        "colab": {
          "base_uri": "https://localhost:8080/"
        },
        "outputId": "73dfa778-05f9-4d78-864e-b030bc75e0d4"
      },
      "execution_count": 17,
      "outputs": [
        {
          "output_type": "stream",
          "name": "stdout",
          "text": [
            "Swift\n",
            "Python\n",
            "Go\n"
          ]
        }
      ]
    },
    {
      "cell_type": "code",
      "source": [
        "for i in range(5):\n",
        "    if i == 3:\n",
        "        break\n",
        "    print(i)"
      ],
      "metadata": {
        "id": "8BnNHT5oTOjM",
        "colab": {
          "base_uri": "https://localhost:8080/"
        },
        "outputId": "22bf212d-6207-4640-b5c0-9400c0b7374f"
      },
      "execution_count": 18,
      "outputs": [
        {
          "output_type": "stream",
          "name": "stdout",
          "text": [
            "0\n",
            "1\n",
            "2\n"
          ]
        }
      ]
    },
    {
      "cell_type": "code",
      "source": [
        "for i in range(5):\n",
        "    if i == 3:\n",
        "        continue\n",
        "    print(i)"
      ],
      "metadata": {
        "id": "W79cqfbWTWgu",
        "colab": {
          "base_uri": "https://localhost:8080/"
        },
        "outputId": "4e079eca-545c-4f2f-af2b-39f8e1d7a3f6"
      },
      "execution_count": 19,
      "outputs": [
        {
          "output_type": "stream",
          "name": "stdout",
          "text": [
            "0\n",
            "1\n",
            "2\n",
            "4\n"
          ]
        }
      ]
    },
    {
      "cell_type": "markdown",
      "source": [
        "**Python Nested for Loop**"
      ],
      "metadata": {
        "id": "N20AEfyKeuCv"
      }
    },
    {
      "cell_type": "code",
      "source": [
        "# Define a list of fruits\n",
        "fruits = [\"apple\", \"banana\", \"cherry\"]\n",
        "\n",
        "# Define a list of colors\n",
        "colors = [\"red\", \"yellow\", \"black\"]\n",
        "\n",
        "# Nested loop to combine each fruit with each color\n",
        "for fruit in fruits:\n",
        "    for color in colors:\n",
        "        print(fruit, color)"
      ],
      "metadata": {
        "id": "5sflwW1HetkA",
        "colab": {
          "base_uri": "https://localhost:8080/"
        },
        "outputId": "2c0ec725-7746-4eb1-ad18-a00479b62a12"
      },
      "execution_count": 20,
      "outputs": [
        {
          "output_type": "stream",
          "name": "stdout",
          "text": [
            "apple red\n",
            "apple yellow\n",
            "apple black\n",
            "banana red\n",
            "banana yellow\n",
            "banana black\n",
            "cherry red\n",
            "cherry yellow\n",
            "cherry black\n"
          ]
        }
      ]
    },
    {
      "cell_type": "markdown",
      "source": [
        "**Python Mathematics**"
      ],
      "metadata": {
        "id": "LUWemH1YTbN3"
      }
    },
    {
      "cell_type": "code",
      "source": [
        "import math\n",
        "\n",
        "# Trigonometric functions\n",
        "print(\"\\nTrigonometric Functions:\")\n",
        "print(\"Sine of 30 degrees:\", math.sin(math.radians(30)))\n",
        "print(\"Cosine of 30 degrees:\", math.cos(math.radians(30)))\n",
        "print(\"Tangent of 30 degrees:\", math.tan(math.radians(30)))\n",
        "\n",
        "# Logarithmic and exponential functions\n",
        "print(\"\\nLogarithmic and Exponential Functions:\")\n",
        "print(\"Natural Logarithm (base e) of 2:\", math.log(2))\n",
        "print(\"Logarithm base 10 of 100:\", math.log10(100))\n",
        "print(\"Exponential of 2:\", math.exp(2))\n",
        "\n",
        "# Constants\n",
        "print(\"\\nConstants:\")\n",
        "print(\"Value of pi:\", math.pi)\n",
        "print(\"Value of e:\", math.e)"
      ],
      "metadata": {
        "id": "tFA2xoIDWQTM",
        "colab": {
          "base_uri": "https://localhost:8080/"
        },
        "outputId": "916eedf5-7004-4e48-8e88-b54ce196695e"
      },
      "execution_count": 21,
      "outputs": [
        {
          "output_type": "stream",
          "name": "stdout",
          "text": [
            "\n",
            "Trigonometric Functions:\n",
            "Sine of 30 degrees: 0.49999999999999994\n",
            "Cosine of 30 degrees: 0.8660254037844387\n",
            "Tangent of 30 degrees: 0.5773502691896257\n",
            "\n",
            "Logarithmic and Exponential Functions:\n",
            "Natural Logarithm (base e) of 2: 0.6931471805599453\n",
            "Logarithm base 10 of 100: 2.0\n",
            "Exponential of 2: 7.38905609893065\n",
            "\n",
            "Constants:\n",
            "Value of pi: 3.141592653589793\n",
            "Value of e: 2.718281828459045\n"
          ]
        }
      ]
    },
    {
      "cell_type": "markdown",
      "source": [
        "**Python List**"
      ],
      "metadata": {
        "id": "EEpiF5F1WSew"
      }
    },
    {
      "cell_type": "code",
      "source": [
        "colors = ['Red', 'Black', 'Green']\n",
        "\n",
        "# Print the original list\n",
        "print(\"Original list of colors:\", colors)"
      ],
      "metadata": {
        "id": "pxdTFYPFXQQi",
        "colab": {
          "base_uri": "https://localhost:8080/"
        },
        "outputId": "edb0d1b2-ec18-4d74-ef78-2ee64f16ef10"
      },
      "execution_count": 22,
      "outputs": [
        {
          "output_type": "stream",
          "name": "stdout",
          "text": [
            "Original list of colors: ['Red', 'Black', 'Green']\n"
          ]
        }
      ]
    },
    {
      "cell_type": "code",
      "source": [
        "# Accessing elements in the list\n",
        "print(\"First color:\", colors[0])\n",
        "print(\"Last color:\", colors[2])\n",
        "print(\"Last color:\", colors[-1])\n",
        "print(\"Sliced colors:\", colors[1:])"
      ],
      "metadata": {
        "id": "B2hue9VCXVZl",
        "colab": {
          "base_uri": "https://localhost:8080/"
        },
        "outputId": "5441ed1c-1aa0-4065-b1e8-87b54216928c"
      },
      "execution_count": 23,
      "outputs": [
        {
          "output_type": "stream",
          "name": "stdout",
          "text": [
            "First color: Red\n",
            "Last color: Green\n",
            "Last color: Green\n",
            "Sliced colors: ['Black', 'Green']\n"
          ]
        }
      ]
    },
    {
      "cell_type": "code",
      "source": [
        "colors[0] = 'Blue'\n",
        "print(\"Modified list after changing the first color to Blue:\", colors)"
      ],
      "metadata": {
        "id": "_z5FV9gHXcB7",
        "colab": {
          "base_uri": "https://localhost:8080/"
        },
        "outputId": "d4e2418b-4b7f-4d7b-e706-035951914383"
      },
      "execution_count": 24,
      "outputs": [
        {
          "output_type": "stream",
          "name": "stdout",
          "text": [
            "Modified list after changing the first color to Blue: ['Blue', 'Black', 'Green']\n"
          ]
        }
      ]
    },
    {
      "cell_type": "code",
      "source": [
        "colors.append('Yellow')\n",
        "print(\"List after appending Yellow:\", colors)"
      ],
      "metadata": {
        "id": "iNECTVWAXytH",
        "colab": {
          "base_uri": "https://localhost:8080/"
        },
        "outputId": "84da0ae9-ed0c-4463-b550-1fa2ac2f5c44"
      },
      "execution_count": 25,
      "outputs": [
        {
          "output_type": "stream",
          "name": "stdout",
          "text": [
            "List after appending Yellow: ['Blue', 'Black', 'Green', 'Yellow']\n"
          ]
        }
      ]
    },
    {
      "cell_type": "code",
      "source": [
        "colors.insert(1, 'White')\n",
        "print(\"List after inserting White at index 1:\", colors)"
      ],
      "metadata": {
        "id": "RxS6zqfQX18W",
        "colab": {
          "base_uri": "https://localhost:8080/"
        },
        "outputId": "7fbd22f9-155c-4b8a-d7f5-bff4d69fd0ae"
      },
      "execution_count": 26,
      "outputs": [
        {
          "output_type": "stream",
          "name": "stdout",
          "text": [
            "List after inserting White at index 1: ['Blue', 'White', 'Black', 'Green', 'Yellow']\n"
          ]
        }
      ]
    },
    {
      "cell_type": "code",
      "source": [
        "colors.remove('Black')\n",
        "print(\"List after removing Black:\", colors)"
      ],
      "metadata": {
        "id": "nWLSIu2wX5za",
        "colab": {
          "base_uri": "https://localhost:8080/"
        },
        "outputId": "babcd095-60bd-40c4-9806-a29a1ba44fd2"
      },
      "execution_count": 27,
      "outputs": [
        {
          "output_type": "stream",
          "name": "stdout",
          "text": [
            "List after removing Black: ['Blue', 'White', 'Green', 'Yellow']\n"
          ]
        }
      ]
    },
    {
      "cell_type": "code",
      "source": [
        "# List operations\n",
        "print(\"Number of colors in the list:\", len(colors))\n",
        "print(\"Reversed list of colors:\", list(reversed(colors)))"
      ],
      "metadata": {
        "id": "d_vK3Y0BX9mt",
        "colab": {
          "base_uri": "https://localhost:8080/"
        },
        "outputId": "87492a1c-775e-4f8c-97d3-ee506376cc04"
      },
      "execution_count": 28,
      "outputs": [
        {
          "output_type": "stream",
          "name": "stdout",
          "text": [
            "Number of colors in the list: 4\n",
            "Reversed list of colors: ['Yellow', 'Green', 'White', 'Blue']\n"
          ]
        }
      ]
    },
    {
      "cell_type": "code",
      "source": [
        "my_list = [2, 1, 4, 5, 3]\n",
        "print(\"Sorted list of colors:\", sorted(my_list))"
      ],
      "metadata": {
        "id": "Av7JT-OjYGYP",
        "colab": {
          "base_uri": "https://localhost:8080/"
        },
        "outputId": "431e630b-4098-4440-c2fd-c28912eb876c"
      },
      "execution_count": 29,
      "outputs": [
        {
          "output_type": "stream",
          "name": "stdout",
          "text": [
            "Sorted list of colors: [1, 2, 3, 4, 5]\n"
          ]
        }
      ]
    },
    {
      "cell_type": "code",
      "source": [
        "# Checking if an element is in the list\n",
        "print(\"Is 'Green' present in the list?\", 'Green' in colors)"
      ],
      "metadata": {
        "id": "2CiPe_U6YFdX",
        "colab": {
          "base_uri": "https://localhost:8080/"
        },
        "outputId": "fcc30c7d-4ce7-46e1-958b-9fcf9f518643"
      },
      "execution_count": 30,
      "outputs": [
        {
          "output_type": "stream",
          "name": "stdout",
          "text": [
            "Is 'Green' present in the list? True\n"
          ]
        }
      ]
    },
    {
      "cell_type": "code",
      "source": [
        "# Iterating over the list\n",
        "print(\"Iterating over the list of colors:\")\n",
        "for color in colors:\n",
        "    print(color)"
      ],
      "metadata": {
        "id": "fixFU_rHYXlq",
        "colab": {
          "base_uri": "https://localhost:8080/"
        },
        "outputId": "df6372bb-43be-4c1d-b009-0cf272407280"
      },
      "execution_count": 31,
      "outputs": [
        {
          "output_type": "stream",
          "name": "stdout",
          "text": [
            "Iterating over the list of colors:\n",
            "Blue\n",
            "White\n",
            "Green\n",
            "Yellow\n"
          ]
        }
      ]
    },
    {
      "cell_type": "markdown",
      "source": [
        "**Python Tuple**"
      ],
      "metadata": {
        "id": "FHo1hYzBY8vb"
      }
    },
    {
      "cell_type": "code",
      "source": [
        "# Define a tuple\n",
        "my_tuple = (1, 2, 3, 'a', 'b', 'c')\n",
        "\n",
        "# Accessing elements of a tuple\n",
        "print(\"First element:\", my_tuple[0])\n",
        "print(\"Last element:\", my_tuple[-1])\n",
        "print(\"Slicing tuple:\", my_tuple[2:5])"
      ],
      "metadata": {
        "id": "WLgQB5GFY18s",
        "colab": {
          "base_uri": "https://localhost:8080/"
        },
        "outputId": "7f73c8ac-5d47-4bcc-8f19-665dde05a65f"
      },
      "execution_count": 32,
      "outputs": [
        {
          "output_type": "stream",
          "name": "stdout",
          "text": [
            "First element: 1\n",
            "Last element: c\n",
            "Slicing tuple: (3, 'a', 'b')\n"
          ]
        }
      ]
    },
    {
      "cell_type": "code",
      "source": [
        "# Length of a tuple\n",
        "print(\"Length of tuple:\", len(my_tuple))"
      ],
      "metadata": {
        "id": "QRQA3gaiZD2v",
        "colab": {
          "base_uri": "https://localhost:8080/"
        },
        "outputId": "0d3a3d64-3ed3-49bc-c9b0-4315f987cbb9"
      },
      "execution_count": 33,
      "outputs": [
        {
          "output_type": "stream",
          "name": "stdout",
          "text": [
            "Length of tuple: 6\n"
          ]
        }
      ]
    },
    {
      "cell_type": "code",
      "source": [
        "# Check if an item exists in a tuple\n",
        "print(\"Is 'a' in the tuple?\", 'a' in my_tuple)"
      ],
      "metadata": {
        "id": "_JK0UIM7ZJMO",
        "colab": {
          "base_uri": "https://localhost:8080/"
        },
        "outputId": "0c6f9e51-5134-47b4-a54c-c2de63d2c1ae"
      },
      "execution_count": 34,
      "outputs": [
        {
          "output_type": "stream",
          "name": "stdout",
          "text": [
            "Is 'a' in the tuple? True\n"
          ]
        }
      ]
    },
    {
      "cell_type": "code",
      "source": [
        "# Iterate through a tuple\n",
        "print(\"Iterating through the tuple:\")\n",
        "for item in my_tuple:\n",
        "    print(item)"
      ],
      "metadata": {
        "id": "jNJA65W3ZM-V",
        "colab": {
          "base_uri": "https://localhost:8080/"
        },
        "outputId": "a6357ad9-2a55-4234-88ca-5f5901dda29b"
      },
      "execution_count": 35,
      "outputs": [
        {
          "output_type": "stream",
          "name": "stdout",
          "text": [
            "Iterating through the tuple:\n",
            "1\n",
            "2\n",
            "3\n",
            "a\n",
            "b\n",
            "c\n"
          ]
        }
      ]
    },
    {
      "cell_type": "markdown",
      "source": [
        "**List Tuple Conversion**"
      ],
      "metadata": {
        "id": "G9T-16kfZSPS"
      }
    },
    {
      "cell_type": "code",
      "source": [
        "fruits = ('apple','banana','orange')"
      ],
      "metadata": {
        "id": "BnRU957TZg4_"
      },
      "execution_count": 36,
      "outputs": []
    },
    {
      "cell_type": "code",
      "source": [
        "# Convert a tuple to a list\n",
        "tuple_as_list = list(fruits)\n",
        "print(\"Tuple converted to list:\", tuple_as_list)"
      ],
      "metadata": {
        "id": "XEYi2wx3ZRph",
        "colab": {
          "base_uri": "https://localhost:8080/"
        },
        "outputId": "6f4e5cbb-21c7-4a75-d7a8-8613b2908717"
      },
      "execution_count": 37,
      "outputs": [
        {
          "output_type": "stream",
          "name": "stdout",
          "text": [
            "Tuple converted to list: ['apple', 'banana', 'orange']\n"
          ]
        }
      ]
    },
    {
      "cell_type": "code",
      "source": [
        "# Convert a list to a tuple\n",
        "list_as_tuple = tuple(tuple_as_list)\n",
        "print(\"List converted to tuple:\", list_as_tuple)"
      ],
      "metadata": {
        "id": "wCxXiz1bZetx",
        "colab": {
          "base_uri": "https://localhost:8080/"
        },
        "outputId": "19dafd0f-1bd4-494c-e40b-2167db6e6538"
      },
      "execution_count": 38,
      "outputs": [
        {
          "output_type": "stream",
          "name": "stdout",
          "text": [
            "List converted to tuple: ('apple', 'banana', 'orange')\n"
          ]
        }
      ]
    },
    {
      "cell_type": "markdown",
      "source": [
        "**Python String**"
      ],
      "metadata": {
        "id": "j215hbO5Z3Dm"
      }
    },
    {
      "cell_type": "code",
      "source": [
        "# join two string\n",
        "greet = \"Hello \"\n",
        "name = \"World\"\n",
        "\n",
        "# using + operator\n",
        "result = greet + name\n",
        "print(result)"
      ],
      "metadata": {
        "id": "qC4M3aEcZ5mu",
        "colab": {
          "base_uri": "https://localhost:8080/"
        },
        "outputId": "de6f404a-bd9a-47f2-9022-9c434b74d7c5"
      },
      "execution_count": 40,
      "outputs": [
        {
          "output_type": "stream",
          "name": "stdout",
          "text": [
            "Hello World\n"
          ]
        }
      ]
    },
    {
      "cell_type": "code",
      "source": [
        "greet = 'Hello'\n",
        "\n",
        "# iterating through greet string\n",
        "for letter in greet:\n",
        "    print(letter)"
      ],
      "metadata": {
        "id": "RHBnHrZvaDom",
        "colab": {
          "base_uri": "https://localhost:8080/"
        },
        "outputId": "2cdc8f8c-d96e-442c-f16d-160ef749caaa"
      },
      "execution_count": 39,
      "outputs": [
        {
          "output_type": "stream",
          "name": "stdout",
          "text": [
            "H\n",
            "e\n",
            "l\n",
            "l\n",
            "o\n"
          ]
        }
      ]
    },
    {
      "cell_type": "code",
      "source": [
        "greet = 'Hello'\n",
        "\n",
        "# count length of greet string\n",
        "print(len(greet))"
      ],
      "metadata": {
        "id": "gdNALPF7aIuG",
        "colab": {
          "base_uri": "https://localhost:8080/"
        },
        "outputId": "5b31c9bf-81d9-470b-9133-a52da23a8169"
      },
      "execution_count": 41,
      "outputs": [
        {
          "output_type": "stream",
          "name": "stdout",
          "text": [
            "5\n"
          ]
        }
      ]
    },
    {
      "cell_type": "markdown",
      "source": [
        "**Python Set**"
      ],
      "metadata": {
        "id": "2mLAa59PaMlz"
      }
    },
    {
      "cell_type": "code",
      "source": [
        "# Creating a set\n",
        "toys = {'car', 'plane', 'animal'}\n",
        "print(\"Initial set:\", toys)"
      ],
      "metadata": {
        "id": "crHBs9lmaiSN",
        "colab": {
          "base_uri": "https://localhost:8080/"
        },
        "outputId": "9022e1fa-f2e7-4171-b42a-7c14631ce857"
      },
      "execution_count": 42,
      "outputs": [
        {
          "output_type": "stream",
          "name": "stdout",
          "text": [
            "Initial set: {'car', 'plane', 'animal'}\n"
          ]
        }
      ]
    },
    {
      "cell_type": "code",
      "source": [
        "# Adding elements to a set\n",
        "toys.add('doll')\n",
        "print(\"After adding 'doll':\", toys)"
      ],
      "metadata": {
        "id": "WOzYTHTHalRg",
        "colab": {
          "base_uri": "https://localhost:8080/"
        },
        "outputId": "76c4d4a0-4859-4ba2-d334-3cbba1519051"
      },
      "execution_count": 43,
      "outputs": [
        {
          "output_type": "stream",
          "name": "stdout",
          "text": [
            "After adding 'doll': {'car', 'doll', 'plane', 'animal'}\n"
          ]
        }
      ]
    },
    {
      "cell_type": "code",
      "source": [
        "# Removing elements from a set\n",
        "toys.remove('animal')\n",
        "print(\"After removing 'plane':\", toys)"
      ],
      "metadata": {
        "id": "EMRYEqgbaoGb",
        "colab": {
          "base_uri": "https://localhost:8080/"
        },
        "outputId": "0d7438cd-4ba9-4f91-edde-9070dce857bd"
      },
      "execution_count": 44,
      "outputs": [
        {
          "output_type": "stream",
          "name": "stdout",
          "text": [
            "After removing 'plane': {'car', 'doll', 'plane'}\n"
          ]
        }
      ]
    },
    {
      "cell_type": "code",
      "source": [
        "# Checking membership in a set\n",
        "print(\"Is 'car' in the set?\", 'car' in toys)\n",
        "print(\"Is 'ball' in the set?\", 'ball' in toys)"
      ],
      "metadata": {
        "id": "TMmaBwazbOUy",
        "colab": {
          "base_uri": "https://localhost:8080/"
        },
        "outputId": "72acbc9e-160c-4c42-ac5d-66c97f1ae346"
      },
      "execution_count": 45,
      "outputs": [
        {
          "output_type": "stream",
          "name": "stdout",
          "text": [
            "Is 'car' in the set? True\n",
            "Is 'ball' in the set? False\n"
          ]
        }
      ]
    },
    {
      "cell_type": "code",
      "source": [
        "# Set operations: union, intersection, difference\n",
        "other_toys = {'bat', 'train', 'doll'}\n",
        "print(\"Union:\", toys.union(other_toys))\n",
        "print(\"Intersection:\", toys.intersection(other_toys))\n",
        "print(\"Difference:\", toys.difference(other_toys))"
      ],
      "metadata": {
        "id": "Qoy6kva5bTI9",
        "colab": {
          "base_uri": "https://localhost:8080/"
        },
        "outputId": "fe2cd9bb-2a84-475b-d65c-db354d26a891"
      },
      "execution_count": 46,
      "outputs": [
        {
          "output_type": "stream",
          "name": "stdout",
          "text": [
            "Union: {'bat', 'car', 'train', 'doll', 'plane'}\n",
            "Intersection: {'doll'}\n",
            "Difference: {'car', 'plane'}\n"
          ]
        }
      ]
    },
    {
      "cell_type": "code",
      "source": [
        "# Length of a set\n",
        "print(\"Length of the set:\", len(toys))"
      ],
      "metadata": {
        "id": "hRXSpcdOblu1",
        "colab": {
          "base_uri": "https://localhost:8080/"
        },
        "outputId": "4ee03217-31fa-40e5-af5d-315862d2c355"
      },
      "execution_count": 47,
      "outputs": [
        {
          "output_type": "stream",
          "name": "stdout",
          "text": [
            "Length of the set: 3\n"
          ]
        }
      ]
    },
    {
      "cell_type": "code",
      "source": [
        "# Clearing a set\n",
        "toys.clear()\n",
        "print(\"Cleared set:\", toys)"
      ],
      "metadata": {
        "id": "M5sMV73Obp26",
        "colab": {
          "base_uri": "https://localhost:8080/"
        },
        "outputId": "a8d332ae-6dc0-4d2a-becd-a9c001991b94"
      },
      "execution_count": 48,
      "outputs": [
        {
          "output_type": "stream",
          "name": "stdout",
          "text": [
            "Cleared set: set()\n"
          ]
        }
      ]
    },
    {
      "cell_type": "markdown",
      "source": [
        "**Python Dictionary**"
      ],
      "metadata": {
        "id": "sF6nWDCxcIxx"
      }
    },
    {
      "cell_type": "code",
      "source": [
        "# Creating an empty dictionary\n",
        "my_dict = {}\n",
        "\n",
        "# Adding key-value pairs to the dictionary\n",
        "my_dict['name'] = 'John'\n",
        "my_dict['age'] = 30\n",
        "my_dict['gender'] = 'male'"
      ],
      "metadata": {
        "id": "LlPMPQcOcIcS"
      },
      "execution_count": 49,
      "outputs": []
    },
    {
      "cell_type": "code",
      "source": [
        "# Printing the dictionary\n",
        "print(\"Dictionary:\", my_dict)"
      ],
      "metadata": {
        "id": "ybljrLfpcO6d",
        "colab": {
          "base_uri": "https://localhost:8080/"
        },
        "outputId": "82733768-dfec-4e64-ee85-56e40f876fca"
      },
      "execution_count": 50,
      "outputs": [
        {
          "output_type": "stream",
          "name": "stdout",
          "text": [
            "Dictionary: {'name': 'John', 'age': 30, 'gender': 'male'}\n"
          ]
        }
      ]
    },
    {
      "cell_type": "code",
      "source": [
        "# Accessing value using key\n",
        "print(\"Value for key 'name':\", my_dict['name'])"
      ],
      "metadata": {
        "id": "DBkbPHstcTjL",
        "colab": {
          "base_uri": "https://localhost:8080/"
        },
        "outputId": "4ccbc7e6-5638-4a56-d4c5-f1b124ce620a"
      },
      "execution_count": 51,
      "outputs": [
        {
          "output_type": "stream",
          "name": "stdout",
          "text": [
            "Value for key 'name': John\n"
          ]
        }
      ]
    },
    {
      "cell_type": "code",
      "source": [
        "# Checking if a key exists\n",
        "if 'age' in my_dict:\n",
        "    print(\"'age' is present in the dictionary.\")\n",
        "else:\n",
        "    print(\"'age' is not present in the dictionary.\")"
      ],
      "metadata": {
        "id": "K0UTKor0cWSC",
        "colab": {
          "base_uri": "https://localhost:8080/"
        },
        "outputId": "a36d3c19-4291-451b-9f72-74311873ef77"
      },
      "execution_count": 52,
      "outputs": [
        {
          "output_type": "stream",
          "name": "stdout",
          "text": [
            "'age' is present in the dictionary.\n"
          ]
        }
      ]
    },
    {
      "cell_type": "code",
      "source": [
        "# Removing a key-value pair\n",
        "removed_value = my_dict.pop('age')\n",
        "print(\"Removed value:\", removed_value)\n",
        "print(\"Dictionary after removing 'age':\", my_dict)"
      ],
      "metadata": {
        "id": "Vfz-92oCcZBx",
        "colab": {
          "base_uri": "https://localhost:8080/"
        },
        "outputId": "0567d3ec-61a2-42a2-a0c5-87d4b0e81b36"
      },
      "execution_count": 53,
      "outputs": [
        {
          "output_type": "stream",
          "name": "stdout",
          "text": [
            "Removed value: 30\n",
            "Dictionary after removing 'age': {'name': 'John', 'gender': 'male'}\n"
          ]
        }
      ]
    },
    {
      "cell_type": "code",
      "source": [
        "# Iterating through keys and values\n",
        "print(\"Keys:\")\n",
        "for key in my_dict:\n",
        "    print(key)"
      ],
      "metadata": {
        "id": "c8JxjB2oceM9",
        "colab": {
          "base_uri": "https://localhost:8080/"
        },
        "outputId": "68e3b653-f797-49b7-cfc2-7ce893971e3a"
      },
      "execution_count": 54,
      "outputs": [
        {
          "output_type": "stream",
          "name": "stdout",
          "text": [
            "Keys:\n",
            "name\n",
            "gender\n"
          ]
        }
      ]
    },
    {
      "cell_type": "code",
      "source": [
        "print(\"Values:\")\n",
        "for value in my_dict.values():\n",
        "    print(value)"
      ],
      "metadata": {
        "id": "_pCDb_5-ciJZ",
        "colab": {
          "base_uri": "https://localhost:8080/"
        },
        "outputId": "84c6336b-43a2-4157-cf05-777ee8d114e6"
      },
      "execution_count": 55,
      "outputs": [
        {
          "output_type": "stream",
          "name": "stdout",
          "text": [
            "Values:\n",
            "John\n",
            "male\n"
          ]
        }
      ]
    },
    {
      "cell_type": "code",
      "source": [
        "# Checking the length of the dictionary\n",
        "print(\"Length of dictionary:\", len(my_dict))"
      ],
      "metadata": {
        "id": "uEcBI7FKckiR",
        "colab": {
          "base_uri": "https://localhost:8080/"
        },
        "outputId": "ab8c7335-1885-42ef-c722-9d63c2a1b6ea"
      },
      "execution_count": 56,
      "outputs": [
        {
          "output_type": "stream",
          "name": "stdout",
          "text": [
            "Length of dictionary: 2\n"
          ]
        }
      ]
    },
    {
      "cell_type": "code",
      "source": [
        "# Clearing the dictionary\n",
        "my_dict.clear()\n",
        "print(\"Dictionary after clearing:\", my_dict)"
      ],
      "metadata": {
        "id": "CSnDS1eOcl29",
        "colab": {
          "base_uri": "https://localhost:8080/"
        },
        "outputId": "558109da-0df0-4672-9626-204c2e3a9c44"
      },
      "execution_count": 57,
      "outputs": [
        {
          "output_type": "stream",
          "name": "stdout",
          "text": [
            "Dictionary after clearing: {}\n"
          ]
        }
      ]
    },
    {
      "cell_type": "markdown",
      "source": [
        "**Python Function**"
      ],
      "metadata": {
        "id": "WiwsqCvouF2C"
      }
    },
    {
      "cell_type": "code",
      "source": [
        "# function with two arguments\n",
        "def add_numbers(num1, num2):\n",
        "    sum = num1 + num2\n",
        "    print(\"Sum: \", sum)\n",
        "\n",
        "# function call\n",
        "add_numbers(5, 4)"
      ],
      "metadata": {
        "id": "Gw9DoWFluFjo",
        "colab": {
          "base_uri": "https://localhost:8080/"
        },
        "outputId": "fd0c12eb-f983-423e-d452-8738556744c4"
      },
      "execution_count": 58,
      "outputs": [
        {
          "output_type": "stream",
          "name": "stdout",
          "text": [
            "Sum:  9\n"
          ]
        }
      ]
    },
    {
      "cell_type": "code",
      "source": [
        "def find_square(num):\n",
        "    result = num * num\n",
        "    return result\n",
        "\n",
        "square = find_square(3)\n",
        "print('Square:', square)"
      ],
      "metadata": {
        "id": "lUd4UP6NuLrl",
        "colab": {
          "base_uri": "https://localhost:8080/"
        },
        "outputId": "eff0688a-0b6e-455a-d1b4-878cdd10de10"
      },
      "execution_count": 59,
      "outputs": [
        {
          "output_type": "stream",
          "name": "stdout",
          "text": [
            "Square: 9\n"
          ]
        }
      ]
    }
  ]
}